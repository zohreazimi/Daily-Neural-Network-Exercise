{
 "cells": [
  {
   "cell_type": "markdown",
   "id": "99d4d64d-ad22-4336-bd2f-bcbc58531809",
   "metadata": {},
   "source": [
    "## Load the MNIST dataset:"
   ]
  },
  {
   "cell_type": "code",
   "execution_count": 9,
   "id": "77e6da57-6b88-4030-b8ae-31f0bea64509",
   "metadata": {},
   "outputs": [],
   "source": [
    "# Load the training and testing images and labels from Keras datasets."
   ]
  },
  {
   "cell_type": "code",
   "execution_count": 1,
   "id": "18014e42-788d-4a72-9a16-661f72d62097",
   "metadata": {},
   "outputs": [
    {
     "name": "stdout",
     "output_type": "stream",
     "text": [
      "Training samples: 60000, Test samples: 10000\n",
      "Image shape: (28, 28)\n"
     ]
    }
   ],
   "source": [
    "import numpy as np\n",
    "\n",
    "# Load MNIST from local file\n",
    "data = np.load(r\"D:\\GitHubProjects\\Daily-Neural-Network-Exercise\\data\\mnist.npz\")\n",
    "x_train, y_train = data['x_train'], data['y_train']\n",
    "x_test, y_test = data['x_test'], data['y_test']\n",
    "\n",
    "print(f\"Training samples: {x_train.shape[0]}, Test samples: {x_test.shape[0]}\")\n",
    "print(f\"Image shape: {x_train.shape[1:]}\")\n"
   ]
  },
  {
   "cell_type": "markdown",
   "id": "5411feeb-ff31-4ef5-8e55-385a2bd13d49",
   "metadata": {},
   "source": [
    "## Preprocess the data:"
   ]
  },
  {
   "cell_type": "code",
   "execution_count": 2,
   "id": "95a838e4-36e6-461a-a491-045dd2d06511",
   "metadata": {},
   "outputs": [],
   "source": [
    "# Normalize the image pixel values to [0, 1] range and convert labels to one-hot encoding."
   ]
  },
  {
   "cell_type": "code",
   "execution_count": 3,
   "id": "587683ad-6bcb-41f6-968d-b405614c60a3",
   "metadata": {},
   "outputs": [],
   "source": [
    "from tensorflow.keras.utils import to_categorical\n",
    "\n",
    "x_train = x_train.astype(\"float32\") / 255\n",
    "x_test = x_test.astype(\"float32\") / 255\n",
    "\n",
    "y_train = to_categorical(y_train, 10)\n",
    "y_test = to_categorical(y_test, 10)\n",
    "\n",
    "x_train = x_train.reshape(-1, 28, 28, 1)\n",
    "x_test = x_test.reshape(-1, 28, 28, 1)"
   ]
  },
  {
   "cell_type": "markdown",
   "id": "03e0c519-a751-414d-8f3a-2eb20bf5e8fc",
   "metadata": {},
   "source": [
    "## Build the CNN model:"
   ]
  },
  {
   "cell_type": "code",
   "execution_count": 4,
   "id": "abf82a7f-7727-4c97-905d-fa810de21fb2",
   "metadata": {},
   "outputs": [],
   "source": [
    "# Define the convolutional neural network architecture with Conv2D, MaxPooling2D, Flatten, and Dense layers."
   ]
  },
  {
   "cell_type": "code",
   "execution_count": 5,
   "id": "1661b48d-13ee-4526-b43d-d5f4af3f6e15",
   "metadata": {},
   "outputs": [],
   "source": [
    "from tensorflow.keras.models import Sequential\n",
    "from tensorflow.keras.layers import Input, Conv2D, MaxPooling2D, Flatten, Dense\n",
    "\n",
    "model = Sequential([\n",
    "    Input(shape=(28, 28, 1)),Conv2D(64, kernel_size=(3, 3), activation=\"relu\"),\n",
    "    MaxPooling2D(pool_size=(2, 2)),\n",
    "    Flatten(),\n",
    "    Dense(128, activation=\"relu\"),\n",
    "    Dense(10, activation=\"softmax\")\n",
    "])"
   ]
  },
  {
   "cell_type": "markdown",
   "id": "48355bd2-040f-4c80-ae42-493efe6487bc",
   "metadata": {},
   "source": [
    "## Compile the model:"
   ]
  },
  {
   "cell_type": "code",
   "execution_count": 6,
   "id": "32a6e51d-8979-486d-9603-f6500a838682",
   "metadata": {},
   "outputs": [],
   "source": [
    "# Specify the optimizer, loss function, and evaluation metrics."
   ]
  },
  {
   "cell_type": "code",
   "execution_count": 7,
   "id": "8725b300-8621-4bf4-a39b-a42959a11ef1",
   "metadata": {},
   "outputs": [],
   "source": [
    "model.compile(optimizer=\"adam\",\n",
    "              loss=\"categorical_crossentropy\",\n",
    "              metrics=[\"accuracy\"])"
   ]
  },
  {
   "cell_type": "markdown",
   "id": "939e68df-4b18-40f4-8cc8-4e869e6818c9",
   "metadata": {},
   "source": [
    "## Train the model:"
   ]
  },
  {
   "cell_type": "code",
   "execution_count": 8,
   "id": "41cc3e58-41dc-4881-87a1-6d10a3e89e8e",
   "metadata": {},
   "outputs": [],
   "source": [
    "# Fit the model to the training data with a specified number of epochs and batch size."
   ]
  },
  {
   "cell_type": "code",
   "execution_count": 9,
   "id": "e0c1a581-4e03-4b90-9280-2f0b00390b21",
   "metadata": {},
   "outputs": [
    {
     "name": "stdout",
     "output_type": "stream",
     "text": [
      "Epoch 1/3\n",
      "\u001b[1m1500/1500\u001b[0m \u001b[32m━━━━━━━━━━━━━━━━━━━━\u001b[0m\u001b[37m\u001b[0m \u001b[1m40s\u001b[0m 26ms/step - accuracy: 0.9530 - loss: 0.1561 - val_accuracy: 0.9788 - val_loss: 0.0683\n",
      "Epoch 2/3\n",
      "\u001b[1m1500/1500\u001b[0m \u001b[32m━━━━━━━━━━━━━━━━━━━━\u001b[0m\u001b[37m\u001b[0m \u001b[1m46s\u001b[0m 30ms/step - accuracy: 0.9843 - loss: 0.0515 - val_accuracy: 0.9835 - val_loss: 0.0569\n",
      "Epoch 3/3\n",
      "\u001b[1m1500/1500\u001b[0m \u001b[32m━━━━━━━━━━━━━━━━━━━━\u001b[0m\u001b[37m\u001b[0m \u001b[1m46s\u001b[0m 31ms/step - accuracy: 0.9895 - loss: 0.0311 - val_accuracy: 0.9859 - val_loss: 0.0479\n"
     ]
    },
    {
     "data": {
      "text/plain": [
       "<keras.src.callbacks.history.History at 0x1a5d2415000>"
      ]
     },
     "execution_count": 9,
     "metadata": {},
     "output_type": "execute_result"
    }
   ],
   "source": [
    "model.fit(x_train, y_train, epochs=3, batch_size=32, validation_split=0.2)"
   ]
  },
  {
   "cell_type": "markdown",
   "id": "1f95c55c-f744-4bcc-9b20-e21a8e818b0c",
   "metadata": {},
   "source": [
    "## Evaluate the model:"
   ]
  },
  {
   "cell_type": "code",
   "execution_count": 10,
   "id": "ead3ef14-22dc-45fc-89f1-7807fab00dbf",
   "metadata": {},
   "outputs": [],
   "source": [
    "# Test the model’s performance on the test dataset and check accuracy."
   ]
  },
  {
   "cell_type": "code",
   "execution_count": 11,
   "id": "06b89255-ca35-4ebd-81e0-a5ac268a8f18",
   "metadata": {},
   "outputs": [
    {
     "name": "stdout",
     "output_type": "stream",
     "text": [
      "\u001b[1m313/313\u001b[0m \u001b[32m━━━━━━━━━━━━━━━━━━━━\u001b[0m\u001b[37m\u001b[0m \u001b[1m2s\u001b[0m 6ms/step - accuracy: 0.9870 - loss: 0.0426\n",
      "Test accuracy: 0.9870\n"
     ]
    }
   ],
   "source": [
    "test_loss, test_acc = model.evaluate(x_test, y_test)\n",
    "print(f\"Test accuracy: {test_acc:.4f}\")"
   ]
  },
  {
   "cell_type": "code",
   "execution_count": null,
   "id": "4325acc9-a839-49f6-bba9-8ac3969dd1ee",
   "metadata": {},
   "outputs": [],
   "source": []
  }
 ],
 "metadata": {
  "kernelspec": {
   "display_name": "Python 3 (ipykernel)",
   "language": "python",
   "name": "python3"
  },
  "language_info": {
   "codemirror_mode": {
    "name": "ipython",
    "version": 3
   },
   "file_extension": ".py",
   "mimetype": "text/x-python",
   "name": "python",
   "nbconvert_exporter": "python",
   "pygments_lexer": "ipython3",
   "version": "3.10.11"
  }
 },
 "nbformat": 4,
 "nbformat_minor": 5
}
