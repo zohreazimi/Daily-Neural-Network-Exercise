{
 "cells": [
  {
   "cell_type": "markdown",
   "id": "fc55563c-87f6-4ce9-a62b-0357cb9ddbd8",
   "metadata": {},
   "source": [
    "<p dir=\"rtl\">\n",
    "برای استفاده از خودِ <b>PyTorch</b>، یعنی همه‌ی امکانات اصلی مثل ساخت <b>Tensor</b>‌ها و اجرای عملیات روی <b>GPU/CPU</b>\n",
    "</p>"
   ]
  },
  {
   "cell_type": "code",
   "execution_count": 1,
   "id": "a8a33260-4109-4f1f-8eec-e3fe7edd2d32",
   "metadata": {},
   "outputs": [],
   "source": [
    "import torch \n"
   ]
  },
  {
   "cell_type": "markdown",
   "id": "dc7fc3dc-2be3-42e7-a4cf-2cd4727c267c",
   "metadata": {},
   "source": [
    "<p dir=\"rtl\">\n",
    "این خط برای وارد کردن <b>torch.nn</b> است؛ \n",
    "کتابخانه‌ای که اجازه می‌دهد لایه‌های شبکه عصبی مانند <b>Conv2d</b> و <b>Pooling</b> را بسازیم.\n",
    "</p>"
   ]
  },
  {
   "cell_type": "code",
   "execution_count": 7,
   "id": "05e0631c-39c6-4b64-a7c2-3766fa7d1e63",
   "metadata": {},
   "outputs": [],
   "source": [
    "import torch.nn as nn"
   ]
  },
  {
   "cell_type": "markdown",
   "id": "3b72a654-5fc3-481b-8957-1d89ccc2d047",
   "metadata": {},
   "source": [
    "<p dir=\"rtl\">\n",
    "این خط برای وارد کردن <b>torch.nn.functional</b> است؛\n",
    "که توابع آماده مانند <b>ReLU</b>، <b>softmax</b> و سایر عملیات ریاضی روی لایه‌ها را فراهم می‌کند.\n",
    "</p>\n"
   ]
  },
  {
   "cell_type": "code",
   "execution_count": 8,
   "id": "1b0920a1-4168-4392-8061-bf03a7736a62",
   "metadata": {},
   "outputs": [],
   "source": [
    "import torch.nn.functional as F"
   ]
  },
  {
   "cell_type": "markdown",
   "id": "b79de6b3-ba39-4166-b288-e696eeacac70",
   "metadata": {},
   "source": [
    "<p dir=\"rtl\">\n",
    "این خط برای وارد کردن <b>torch.optim</b> است؛\n",
    "که به ما اجازه می‌دهد بهینه‌سازهایی مانند <b>SGD</b> و <b>Adam</b> را برای بروزرسانی وزن‌ها استفاده کنیم.\n",
    "</p>\n"
   ]
  },
  {
   "cell_type": "code",
   "execution_count": 9,
   "id": "10901030-e739-44c4-8a11-19cbd6e1ab3f",
   "metadata": {},
   "outputs": [],
   "source": [
    "import torch.optim as optim"
   ]
  },
  {
   "cell_type": "markdown",
   "id": "f8bb1f15-9901-45c5-88b4-e1ff8eecfe4b",
   "metadata": {},
   "source": [
    "<p dir=\"rtl\">\n",
    "این خط برای وارد کردن <b>torchvision</b> است؛\n",
    "کتابخانه‌ای که دیتاست‌ها و ترنسفورم‌های آماده تصاویر مانند <b>MNIST</b> و <b>CIFAR</b> را فراهم می‌کند.\n",
    "</p>\n"
   ]
  },
  {
   "cell_type": "code",
   "execution_count": 10,
   "id": "4be33281-7403-4fa1-9e0b-cf6646bc0118",
   "metadata": {},
   "outputs": [],
   "source": [
    "import torchvision"
   ]
  },
  {
   "cell_type": "markdown",
   "id": "8c142861-063b-422d-9727-f4963ea3b8fe",
   "metadata": {},
   "source": [
    "<p dir=\"rtl\">\n",
    "این خط برای وارد کردن <b>torchvision.transforms</b> است؛\n",
    "که امکان انجام تبدیل‌ها و پیش‌پردازش تصاویر مانند <b>Resize</b>، <b>Normalize</b> و تبدیل به <b>Tensor</b> را فراهم می‌کند.\n",
    "</p>"
   ]
  },
  {
   "cell_type": "code",
   "execution_count": 11,
   "id": "0555e366-3c14-4337-a434-a7f3cd58cd62",
   "metadata": {},
   "outputs": [],
   "source": [
    "import torchvision.transforms as transforms"
   ]
  },
  {
   "cell_type": "markdown",
   "id": "c7dacda4-e6d4-4cb7-b71e-bb0902e771be",
   "metadata": {},
   "source": [
    "<p dir=\"rtl\">\n",
    "این خط برای تعریف یک کلاس <b>CNN</b> ساده است.\n",
    "سازنده <b>__init__</b> آماده می‌شود تا بتوانیم لایه‌ها را در آن اضافه کنیم.\n",
    "</p>\n"
   ]
  },
  {
   "cell_type": "markdown",
   "id": "5e29262f-2c23-4aeb-b61d-ba7555f09cb7",
   "metadata": {},
   "source": [
    "<p dir=\"rtl\">\n",
    "استفاده از <b>super()</b> در اینجا برای فراخوانی سازنده کلاس پایه <b>nn.Module</b> است.\n",
    "این کار لازم است تا <b>CNN</b> ما بتواند تمام امکانات داخلی <b>nn.Module</b> مانند مدیریت پارامترها و ثبت لایه‌ها را داشته باشد.\n",
    "بدون <b>super()</b> ممکن است شبکه بدرستی عمل نکند یا خطا بدهد.\n",
    "</p>"
   ]
  },
  {
   "cell_type": "code",
   "execution_count": 21,
   "id": "7a0f1f6e-4798-4984-bba7-4bac83ee5f50",
   "metadata": {},
   "outputs": [],
   "source": [
    "class SimpleCNN(nn.Module):\n",
    "    def __init__(self):\n",
    "        super(SimpleCNN, self).__init__()\n",
    "        self.conv1 = nn.Conv2d(\n",
    "            in_channels=1,  \n",
    "            out_channels=16,\n",
    "            kernel_size=3,\n",
    "            stride=1,\n",
    "            padding=1\n",
    "        )\n",
    "        self.relu = nn.ReLU()\n",
    "\n",
    "    def forward(self, x):\n",
    "        x = self.conv1(x)\n",
    "        x = self.relu(x)\n",
    "        return x\n"
   ]
  },
  {
   "cell_type": "markdown",
   "id": "dc76a1a6-c550-4a61-b856-445bded18541",
   "metadata": {},
   "source": [
    "<p dir=\"rtl\">\n",
    "این خط یک لایه <b>Conv2d</b> اول در <b>CNN</b> ایجاد می‌کند.\n",
    "- <b>in_channels=1</b> : تعداد کانال‌های ورودی (مثلاً تصاویر سیاه‌وسفید)  \n",
    "- <b>out_channels=16</b> : تعداد فیلترهای خروجی  \n",
    "- <b>kernel_size=3</b> : اندازه کرنل 3×3  \n",
    "- <b>stride=1</b> : گام حرکت کرنل  \n",
    "- <b>padding=1</b> : اضافه کردن لبه‌ها برای حفظ ابعاد\n",
    "</p>\n"
   ]
  },
  {
   "cell_type": "markdown",
   "id": "8b5f0245-ab63-43b7-87a5-354d0c3f8131",
   "metadata": {},
   "source": [
    "<p dir=\"rtl\">\n",
    "تعداد <b>out_channels=16</b> در لایه اول <b>Conv2d</b> یک انتخاب متداول و منطقی است.  \n",
    "- هر فیلتر (کانال خروجی) یک ویژگی خاص تصویر را استخراج می‌کند، پس با 16 فیلتر، شبکه می‌تواند 16 ویژگی مختلف را یاد بگیرد.  \n",
    "- اگر تعداد فیلترها کمتر باشد (مثلاً 4 یا 8)، ممکن است شبکه نتواند جزئیات تصویر را به خوبی تشخیص دهد.  \n",
    "- اگر تعداد فیلترها خیلی زیاد باشد (مثلاً 64 یا 128)، حجم محاسبات و مصرف حافظه افزایش می‌یابد و برای لایه‌های ابتدایی معمولاً لازم نیست اینقدر فیلتر داشته باشیم.  \n",
    "بنابراین 16 یک تعادل مناسب بین <b>قدرت استخراج ویژگی</b> و <b>کارایی محاسباتی</b> ایجاد می‌کند و انتخاب رایجی برای لایه اول CNN است.\n",
    "</p>\n",
    "\n"
   ]
  },
  {
   "cell_type": "markdown",
   "id": "3abcda9c-1689-4dd8-b146-1cac22f36047",
   "metadata": {},
   "source": [
    "<p dir=\"rtl\">\n",
    "اندازه <b>kernel_size=3</b> یعنی فیلتر 3×3 روی تصویر اعمال می‌شود.  \n",
    "- فیلتر 3×3 یک انتخاب متداول در CNNهاست زیرا به اندازه کافی کوچک است تا جزئیات محلی تصویر را بگیرد،  \n",
    "و همزمان محاسبات زیادی نیاز ندارد.  \n",
    "- اندازه بزرگتر (مثلاً 5×5 یا 7×7) ویژگی‌های وسیع‌تر را می‌گیرد ولی محاسبات سنگین‌تر می‌شود و ممکن است جزئیات ریز را از دست بدهد.  \n",
    "- بنابراین <b>3×3</b> تعادل خوبی بین دقت و کارایی محاسباتی ایجاد می‌کند و در اکثر شبکه‌ها استفاده می‌شود.\n",
    "</p>\n"
   ]
  },
  {
   "cell_type": "markdown",
   "id": "23576640-ba4c-4cad-80b8-0e42c6f798c4",
   "metadata": {},
   "source": [
    "<p dir=\"rtl\">\n",
    "پارامتر <b>stride=1</b> مشخص می‌کند فیلتر <b>Conv2d</b> در هر حرکت فقط یک پیکسل به جلو برود.  \n",
    "- با <b>stride=1</b> تصویر خروجی تقریباً همان ابعاد ورودی را حفظ می‌کند (به شرط اینکه padding مناسب باشد).  \n",
    "- اگر stride بزرگتر باشد (مثلاً 2 یا 3)، اندازه خروجی کاهش می‌یابد و اطلاعات محلی جزئی از بین می‌رود.  \n",
    "- بنابراین <b>stride=1</b> انتخاب رایج در لایه‌های ابتدایی CNN است تا جزئیات تصویر حفظ شود.\n",
    "</p>\n"
   ]
  },
  {
   "cell_type": "markdown",
   "id": "af3566d7-06e5-4644-bd03-e7a4a1b62ba6",
   "metadata": {},
   "source": [
    "<p dir=\"rtl\">\n",
    "پارامتر <b>padding=1</b> مشخص می‌کند که اطراف تصویر <b>یک لایه صفر</b> اضافه شود.  \n",
    "- این کار باعث می‌شود بعد از اعمال <b>Conv2d</b>، ابعاد تصویر تقریباً همانند ورودی باقی بماند.  \n",
    "- بدون padding، اندازه تصویر خروجی کوچک‌تر می‌شود و لبه‌های تصویر کمتر در فرآیند یادگیری در نظر گرفته می‌شوند.  \n",
    "- بنابراین <b>padding=1</b> تعادل خوبی بین حفظ ابعاد و استخراج ویژگی‌ها ایجاد می‌کند و در لایه‌های ابتدایی CNN معمولاً استفاده می‌شود.\n",
    "</p>\n"
   ]
  },
  {
   "cell_type": "markdown",
   "id": "b61374e0-e2e9-4cb4-a7c7-9a0a2e24bb73",
   "metadata": {},
   "source": [
    "<p dir=\"rtl\">\n",
    "این خط یک <b>تابع فعال‌سازی ReLU</b> برای <b>CNN</b> ایجاد می‌کند.\n",
    "ReLU به شبکه اجازه می‌دهد تا <b>غیرخطی بودن</b> داشته باشد و یادگیری ویژگی‌ها بهتر انجام شود.\n",
    "</p>\n"
   ]
  },
  {
   "cell_type": "markdown",
   "id": "38a0bf89-5495-4e4c-95c0-b01ae7b4c923",
   "metadata": {},
   "source": [
    "<p dir=\"rtl\">\n",
    "همیشه بعد از هر لایه <b>Conv2d</b> لازم نیست تابع فعال‌سازی گذاشته شود،  \n",
    "اما معمولاً در اکثر شبکه‌های CNN بعد از لایه پیچشی یک تابع فعال‌سازی مانند <b>ReLU</b> قرار می‌دهند.  \n",
    "- هدف این است که شبکه <b>غیرخطی</b> شود و بتواند ویژگی‌های پیچیده‌تر تصویر را یاد بگیرد.  \n",
    "- در برخی لایه‌ها یا معماری‌ها ممکن است فعال‌سازی بعدی اعمال نشود، مثلاً در لایه خروجی برای برخی وظایف خاص.\n",
    "</p>\n"
   ]
  },
  {
   "cell_type": "code",
   "execution_count": null,
   "id": "88022a07-4ea3-48e5-9880-9e9769e8a14f",
   "metadata": {},
   "outputs": [],
   "source": []
  },
  {
   "cell_type": "code",
   "execution_count": null,
   "id": "a44dc869-8436-43ff-a63b-92fdd797c737",
   "metadata": {},
   "outputs": [],
   "source": []
  }
 ],
 "metadata": {
  "kernelspec": {
   "display_name": "Python 3 (ipykernel)",
   "language": "python",
   "name": "python3"
  },
  "language_info": {
   "codemirror_mode": {
    "name": "ipython",
    "version": 3
   },
   "file_extension": ".py",
   "mimetype": "text/x-python",
   "name": "python",
   "nbconvert_exporter": "python",
   "pygments_lexer": "ipython3",
   "version": "3.10.11"
  }
 },
 "nbformat": 4,
 "nbformat_minor": 5
}
